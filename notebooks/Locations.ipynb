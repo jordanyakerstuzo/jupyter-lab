{
 "cells": [
  {
   "cell_type": "markdown",
   "id": "2331e89d-afa3-463a-90cc-5cfeab5bde7d",
   "metadata": {},
   "source": [
    "### Import Libraries"
   ]
  },
  {
   "cell_type": "code",
   "execution_count": 16,
   "id": "c1b29559-21a6-4e1f-9330-2439473ae915",
   "metadata": {},
   "outputs": [],
   "source": [
    "from pyspark.sql import SparkSession\n",
    "from pyspark.sql.functions import col"
   ]
  },
  {
   "cell_type": "markdown",
   "id": "3ae6c362-b6ff-41a5-be79-6804a0644de9",
   "metadata": {},
   "source": [
    "### Configure Session"
   ]
  },
  {
   "cell_type": "code",
   "execution_count": 2,
   "id": "93597169-45ee-44af-bd4e-2edeac4e6767",
   "metadata": {},
   "outputs": [],
   "source": [
    "spark = SparkSession \\\n",
    "    .builder \\\n",
    "    .appName(\"OpenCommerce\") \\\n",
    "    .config(\"spark.jars\", \"/ext/lib/postgresql-42.3.4.jar\") \\\n",
    "    .getOrCreate()"
   ]
  },
  {
   "cell_type": "markdown",
   "id": "a7340a55-0c1f-4c66-b086-b418e940201a",
   "metadata": {},
   "source": [
    "### Helper Functions"
   ]
  },
  {
   "cell_type": "code",
   "execution_count": 3,
   "id": "2f4c2a7b-8671-4d31-8642-83e6272df9c5",
   "metadata": {},
   "outputs": [],
   "source": [
    "def get_table_from_database(port: int, database: str, table: str):\n",
    "    return spark.read \\\n",
    "        .format(\"jdbc\") \\\n",
    "        .option(\"url\", f\"jdbc:postgresql://host.docker.internal:{port}/{database}?user=postgres\") \\\n",
    "        .option(\"driver\", \"org.postgresql.Driver\") \\\n",
    "        .option(\"dbtable\", table) \\\n",
    "        .load()"
   ]
  },
  {
   "cell_type": "markdown",
   "id": "4bf1b55f-1e77-4397-8814-935c76d39ae6",
   "metadata": {},
   "source": [
    "### Get Data"
   ]
  },
  {
   "cell_type": "code",
   "execution_count": 31,
   "id": "00a16673-5faf-42ef-a944-eb38efe66fba",
   "metadata": {},
   "outputs": [],
   "source": [
    "activate_locations = get_table_from_database(9037, \"activate_core_production\", \"locations\")\n",
    "oc_addresses = get_table_from_database(9036, \"open_commerce\", \"address\").withColumnRenamed(\"geoLocationLongitude\", \"lon\") \\\n",
    "                                                                        .withColumnRenamed(\"geoLocationLatitude\", \"lat\")\n",
    "oc_locations = get_table_from_database(9036, \"open_commerce\", \"location\").join(oc_addresses, \n",
    "                                                                               col(\"addressId\") == oc_addresses.id,\n",
    "                                                                               \"left\") \\\n",
    "                                                                         .drop(\"createdAt\",\"updatedAt\")"
   ]
  },
  {
   "cell_type": "code",
   "execution_count": 33,
   "id": "6f655bae-afdc-4800-9a4c-3824d8a5f367",
   "metadata": {},
   "outputs": [
    {
     "data": {
      "text/html": [
       "<div>\n",
       "<style scoped>\n",
       "    .dataframe tbody tr th:only-of-type {\n",
       "        vertical-align: middle;\n",
       "    }\n",
       "\n",
       "    .dataframe tbody tr th {\n",
       "        vertical-align: top;\n",
       "    }\n",
       "\n",
       "    .dataframe thead th {\n",
       "        text-align: right;\n",
       "    }\n",
       "</style>\n",
       "<table border=\"1\" class=\"dataframe\">\n",
       "  <thead>\n",
       "    <tr style=\"text-align: right;\">\n",
       "      <th></th>\n",
       "      <th>alias</th>\n",
       "    </tr>\n",
       "  </thead>\n",
       "  <tbody>\n",
       "    <tr>\n",
       "      <th>0</th>\n",
       "      <td>CEFCO #0032</td>\n",
       "    </tr>\n",
       "    <tr>\n",
       "      <th>1</th>\n",
       "      <td>CEFCO #1022</td>\n",
       "    </tr>\n",
       "    <tr>\n",
       "      <th>2</th>\n",
       "      <td>CEFCO #0069</td>\n",
       "    </tr>\n",
       "    <tr>\n",
       "      <th>3</th>\n",
       "      <td>CEFCO #0057</td>\n",
       "    </tr>\n",
       "    <tr>\n",
       "      <th>4</th>\n",
       "      <td>CEFCO #1013</td>\n",
       "    </tr>\n",
       "    <tr>\n",
       "      <th>...</th>\n",
       "      <td>...</td>\n",
       "    </tr>\n",
       "    <tr>\n",
       "      <th>217</th>\n",
       "      <td>CEFCO #1024</td>\n",
       "    </tr>\n",
       "    <tr>\n",
       "      <th>218</th>\n",
       "      <td>CEFCO #2012</td>\n",
       "    </tr>\n",
       "    <tr>\n",
       "      <th>219</th>\n",
       "      <td>CEFCO #1016</td>\n",
       "    </tr>\n",
       "    <tr>\n",
       "      <th>220</th>\n",
       "      <td>CEFCO #0006</td>\n",
       "    </tr>\n",
       "    <tr>\n",
       "      <th>221</th>\n",
       "      <td>CEFCO #0098</td>\n",
       "    </tr>\n",
       "  </tbody>\n",
       "</table>\n",
       "<p>222 rows × 1 columns</p>\n",
       "</div>"
      ],
      "text/plain": [
       "           alias\n",
       "0    CEFCO #0032\n",
       "1    CEFCO #1022\n",
       "2    CEFCO #0069\n",
       "3    CEFCO #0057\n",
       "4    CEFCO #1013\n",
       "..           ...\n",
       "217  CEFCO #1024\n",
       "218  CEFCO #2012\n",
       "219  CEFCO #1016\n",
       "220  CEFCO #0006\n",
       "221  CEFCO #0098\n",
       "\n",
       "[222 rows x 1 columns]"
      ]
     },
     "metadata": {},
     "output_type": "display_data"
    }
   ],
   "source": [
    "display(oc_locations.select(\"alias\").toPandas())"
   ]
  },
  {
   "cell_type": "code",
   "execution_count": null,
   "id": "59d0cd03-bb4c-4a38-b74e-2a574be33e2b",
   "metadata": {},
   "outputs": [],
   "source": []
  }
 ],
 "metadata": {
  "kernelspec": {
   "display_name": "Python 3 (ipykernel)",
   "language": "python",
   "name": "python3"
  },
  "language_info": {
   "codemirror_mode": {
    "name": "ipython",
    "version": 3
   },
   "file_extension": ".py",
   "mimetype": "text/x-python",
   "name": "python",
   "nbconvert_exporter": "python",
   "pygments_lexer": "ipython3",
   "version": "3.9.10"
  }
 },
 "nbformat": 4,
 "nbformat_minor": 5
}
